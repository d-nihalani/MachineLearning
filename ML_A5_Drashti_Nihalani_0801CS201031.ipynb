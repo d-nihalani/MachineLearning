{
  "nbformat": 4,
  "nbformat_minor": 0,
  "metadata": {
    "colab": {
      "provenance": []
    },
    "kernelspec": {
      "name": "python3",
      "display_name": "Python 3"
    },
    "language_info": {
      "name": "python"
    }
  },
  "cells": [
    {
      "cell_type": "code",
      "source": [],
      "metadata": {
        "id": "Mv1scbFa17fi"
      },
      "execution_count": null,
      "outputs": []
    },
    {
      "cell_type": "markdown",
      "source": [
        "CONVOLUTIONAL NEURAL NETWORK\n",
        "- tensorflow: keras"
      ],
      "metadata": {
        "id": "-2DiFP-118PX"
      }
    },
    {
      "cell_type": "code",
      "execution_count": null,
      "metadata": {
        "id": "oLRLecGFqzLR"
      },
      "outputs": [],
      "source": [
        "import numpy as np\n",
        "from tensorflow import keras\n",
        "from tensorflow.keras import layers\n"
      ]
    },
    {
      "cell_type": "code",
      "source": [
        "#prep data\n",
        "#model/ data parameters\n",
        "num_classes =10\n",
        "input_shape= (28,28,1)"
      ],
      "metadata": {
        "id": "cR7YjsTGq-cI"
      },
      "execution_count": null,
      "outputs": []
    },
    {
      "cell_type": "code",
      "source": [
        "(x_train, y_train), (x_test, y_test) = keras.datasets.mnist.load_data()\n",
        "#split in test and train"
      ],
      "metadata": {
        "id": "874B40JbrKFm"
      },
      "execution_count": null,
      "outputs": []
    },
    {
      "cell_type": "code",
      "source": [
        "#scale images to [0,1 ] range\n",
        "x_train = x_train.astype(\"float32\")/255\n",
        "x_test = x_test.astype(\"float32\")/255\n"
      ],
      "metadata": {
        "id": "aUoIyhAQraWr"
      },
      "execution_count": null,
      "outputs": []
    },
    {
      "cell_type": "code",
      "source": [
        "#expand shape of array, insert new axis if not 28*28*1 then expand make sure images have this shape\n",
        "x_train= np.expand_dims(x_train, -1)\n",
        "x_test= np.expand_dims(x_test, -1)\n",
        "print(\"x_train shape: \", x_train.shape)\n",
        "print(x_train.shape[0], \"x_train samples\")\n"
      ],
      "metadata": {
        "colab": {
          "base_uri": "https://localhost:8080/"
        },
        "id": "JkmG2yUzrvuc",
        "outputId": "b7a15156-c219-4128-cd54-bdd443763c3b"
      },
      "execution_count": null,
      "outputs": [
        {
          "output_type": "stream",
          "name": "stdout",
          "text": [
            "x_train shape:  (60000, 28, 28, 1)\n",
            "60000 x_train samples\n"
          ]
        }
      ]
    },
    {
      "cell_type": "code",
      "source": [
        "print(x_test.shape[0], \"x_test samples\")"
      ],
      "metadata": {
        "colab": {
          "base_uri": "https://localhost:8080/"
        },
        "id": "Wkkok9ulsxp7",
        "outputId": "c165d37f-067f-4ef5-ce6e-f66974b43120"
      },
      "execution_count": null,
      "outputs": [
        {
          "output_type": "stream",
          "name": "stdout",
          "text": [
            "10000 x_test samples\n"
          ]
        }
      ]
    },
    {
      "cell_type": "code",
      "source": [
        "#convert class labels vectors to binary class matrices"
      ],
      "metadata": {
        "id": "u9ZyTc3ts8Ih"
      },
      "execution_count": null,
      "outputs": []
    },
    {
      "cell_type": "code",
      "source": [
        "y_train= keras.utils.to_categorical(y_train, num_classes)\n",
        "y_test= keras.utils.to_categorical(y_test, num_classes)"
      ],
      "metadata": {
        "id": "i8EVqC0LtE9k"
      },
      "execution_count": null,
      "outputs": []
    },
    {
      "cell_type": "code",
      "source": [
        "# using convolution build the model seq or functional, use functional\n",
        "model = keras.Sequential(\n",
        "    [\n",
        "        keras.Input(shape=input_shape),\n",
        "        layers.Conv2D(32, kernel_size=(3,3), activation= \"relu\"),\n",
        "        layers.MaxPooling2D(pool_size=(2,2)),\n",
        "        layers.Conv2D(64, kernel_size=(3,3), activation= \"relu\"),\n",
        "        layers.MaxPooling2D(pool_size=(2,2)),\n",
        "        layers.Flatten(), #values to array\n",
        "        layers.Dropout(0.5), #random drop of neurons 50%\n",
        "        layers.Dense(num_classes, activation=\"softmax\"),\n",
        "     \n",
        "    ]\n",
        ")\n",
        "#this is a cnn model \n",
        "#32 is no of filters, filter size, stride\n",
        "model.summary()"
      ],
      "metadata": {
        "colab": {
          "base_uri": "https://localhost:8080/"
        },
        "id": "cmyaTTJHtXVz",
        "outputId": "ab9f305c-1617-40d4-ef7f-55f4e9fcc428"
      },
      "execution_count": null,
      "outputs": [
        {
          "output_type": "stream",
          "name": "stdout",
          "text": [
            "Model: \"sequential\"\n",
            "_________________________________________________________________\n",
            " Layer (type)                Output Shape              Param #   \n",
            "=================================================================\n",
            " conv2d_4 (Conv2D)           (None, 26, 26, 32)        320       \n",
            "                                                                 \n",
            " max_pooling2d_4 (MaxPooling  (None, 13, 13, 32)       0         \n",
            " 2D)                                                             \n",
            "                                                                 \n",
            " conv2d_5 (Conv2D)           (None, 11, 11, 64)        18496     \n",
            "                                                                 \n",
            " max_pooling2d_5 (MaxPooling  (None, 5, 5, 64)         0         \n",
            " 2D)                                                             \n",
            "                                                                 \n",
            " flatten_2 (Flatten)         (None, 1600)              0         \n",
            "                                                                 \n",
            " dropout_2 (Dropout)         (None, 1600)              0         \n",
            "                                                                 \n",
            " dense_2 (Dense)             (None, 10)                16010     \n",
            "                                                                 \n",
            "=================================================================\n",
            "Total params: 34,826\n",
            "Trainable params: 34,826\n",
            "Non-trainable params: 0\n",
            "_________________________________________________________________\n"
          ]
        }
      ]
    },
    {
      "cell_type": "code",
      "source": [
        "#interpret summary:\n",
        "#none = varying size\n",
        "# 28-3+1 = 26 ||  3 filter, dilation rate 1\n",
        "#26-2/2 +1  = 13 || 2 kernal shape, 2 \n",
        "#flatten 5*5*64 = 1600"
      ],
      "metadata": {
        "id": "XMVkZZf8vhw6"
      },
      "execution_count": null,
      "outputs": []
    },
    {
      "cell_type": "code",
      "source": [
        "batch_size=  128\n",
        "epochs=15\n",
        "model.compile(loss=\"categorical_crossentropy\", optimizer=\"adam\", metrics=[\"accuracy\"])"
      ],
      "metadata": {
        "id": "lEb0KiK0yPQo"
      },
      "execution_count": null,
      "outputs": []
    },
    {
      "cell_type": "code",
      "source": [
        "model.fit(x_train, y_train, batch_size=batch_size, epochs=epochs, validation_split=0.1)"
      ],
      "metadata": {
        "colab": {
          "base_uri": "https://localhost:8080/"
        },
        "id": "9MQ7BF-RydkG",
        "outputId": "3cc45359-7db2-4408-ce17-1978b8ce7de5"
      },
      "execution_count": null,
      "outputs": [
        {
          "output_type": "stream",
          "name": "stdout",
          "text": [
            "Epoch 1/15\n",
            "422/422 [==============================] - 51s 121ms/step - loss: 0.0299 - accuracy: 0.9904 - val_loss: 0.0274 - val_accuracy: 0.9928\n",
            "Epoch 2/15\n",
            "422/422 [==============================] - 46s 110ms/step - loss: 0.0312 - accuracy: 0.9900 - val_loss: 0.0285 - val_accuracy: 0.9913\n",
            "Epoch 3/15\n",
            "422/422 [==============================] - 47s 110ms/step - loss: 0.0282 - accuracy: 0.9904 - val_loss: 0.0312 - val_accuracy: 0.9920\n",
            "Epoch 4/15\n",
            "422/422 [==============================] - 47s 111ms/step - loss: 0.0271 - accuracy: 0.9913 - val_loss: 0.0285 - val_accuracy: 0.9923\n",
            "Epoch 5/15\n",
            "422/422 [==============================] - 46s 110ms/step - loss: 0.0271 - accuracy: 0.9910 - val_loss: 0.0306 - val_accuracy: 0.9915\n",
            "Epoch 6/15\n",
            "422/422 [==============================] - 47s 111ms/step - loss: 0.0254 - accuracy: 0.9915 - val_loss: 0.0296 - val_accuracy: 0.9927\n",
            "Epoch 7/15\n",
            "422/422 [==============================] - 46s 110ms/step - loss: 0.0259 - accuracy: 0.9915 - val_loss: 0.0286 - val_accuracy: 0.9932\n",
            "Epoch 8/15\n",
            "422/422 [==============================] - 46s 109ms/step - loss: 0.0252 - accuracy: 0.9918 - val_loss: 0.0281 - val_accuracy: 0.9923\n",
            "Epoch 9/15\n",
            "422/422 [==============================] - 47s 112ms/step - loss: 0.0238 - accuracy: 0.9921 - val_loss: 0.0309 - val_accuracy: 0.9912\n",
            "Epoch 10/15\n",
            "422/422 [==============================] - 48s 113ms/step - loss: 0.0256 - accuracy: 0.9913 - val_loss: 0.0280 - val_accuracy: 0.9925\n",
            "Epoch 11/15\n",
            "422/422 [==============================] - 47s 112ms/step - loss: 0.0233 - accuracy: 0.9921 - val_loss: 0.0284 - val_accuracy: 0.9925\n",
            "Epoch 12/15\n",
            "422/422 [==============================] - 47s 112ms/step - loss: 0.0232 - accuracy: 0.9921 - val_loss: 0.0263 - val_accuracy: 0.9923\n",
            "Epoch 13/15\n",
            "422/422 [==============================] - 47s 111ms/step - loss: 0.0236 - accuracy: 0.9921 - val_loss: 0.0276 - val_accuracy: 0.9922\n",
            "Epoch 14/15\n",
            "422/422 [==============================] - 47s 111ms/step - loss: 0.0232 - accuracy: 0.9920 - val_loss: 0.0280 - val_accuracy: 0.9928\n",
            "Epoch 15/15\n",
            "422/422 [==============================] - 47s 111ms/step - loss: 0.0203 - accuracy: 0.9931 - val_loss: 0.0291 - val_accuracy: 0.9913\n"
          ]
        },
        {
          "output_type": "execute_result",
          "data": {
            "text/plain": [
              "<keras.callbacks.History at 0x7feb4262b820>"
            ]
          },
          "metadata": {},
          "execution_count": 28
        }
      ]
    },
    {
      "cell_type": "code",
      "source": [
        "score= model.evaluate(x_test, y_test, verbose=0)\n",
        "print('Test Loss: ', score[0])\n",
        "print(\"Test accuracy:\" , score[1])"
      ],
      "metadata": {
        "colab": {
          "base_uri": "https://localhost:8080/"
        },
        "id": "8a7Qmofdypfv",
        "outputId": "969d0fa7-8dba-4d90-e08a-337f29baff90"
      },
      "execution_count": null,
      "outputs": [
        {
          "output_type": "stream",
          "name": "stdout",
          "text": [
            "Test Loss:  0.023413974791765213\n",
            "Test accuracy: 0.992900013923645\n"
          ]
        }
      ]
    }
  ]
}